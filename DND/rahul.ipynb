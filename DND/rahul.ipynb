{
 "cells": [
  {
   "cell_type": "code",
   "execution_count": 1,
   "metadata": {},
   "outputs": [],
   "source": [
    "import pandas as pd"
   ]
  },
  {
   "cell_type": "code",
   "execution_count": 3,
   "metadata": {},
   "outputs": [
    {
     "name": "stderr",
     "output_type": "stream",
     "text": [
      "C:\\Users\\2186236\\AppData\\Local\\Temp\\ipykernel_26528\\3368765163.py:1: DtypeWarning: Columns (1,2,3,4,5,6,7) have mixed types. Specify dtype option on import or set low_memory=False.\n",
      "  df = pd.read_csv(\"GROW.csv\", index_col= None)\n"
     ]
    }
   ],
   "source": [
    "df = pd.read_csv(\"GROW.csv\", index_col= None)"
   ]
  },
  {
   "cell_type": "code",
   "execution_count": 4,
   "metadata": {},
   "outputs": [
    {
     "name": "stdout",
     "output_type": "stream",
     "text": [
      "         Associate ID              Name      MDU Grade                 RSC  \\\n",
      "0           2012497.0     Mehare  Nigar       CE     A  Power BI Developer   \n",
      "1           2021711.0    Rashmi  Kumari   NA-INS     A  Power BI Developer   \n",
      "2           2031801.0   Vallinayagam  M  NA-MLEU     A  Power BI Developer   \n",
      "3           2033699.0     Harshit  Soni   NA-INS     A  Power BI Developer   \n",
      "4           2033878.0  Saurabh  Kinekar     APAC     A  Power BI Developer   \n",
      "...               ...               ...      ...   ...                 ...   \n",
      "1045544           NaN               NaN      NaN   NaN                 NaN   \n",
      "1045545           NaN               NaN      NaN   NaN                 NaN   \n",
      "1045546           NaN               NaN      NaN   NaN                 NaN   \n",
      "1045547           NaN               NaN      NaN   NaN                 NaN   \n",
      "1045548           NaN               NaN      NaN   NaN                 NaN   \n",
      "\n",
      "               City                           Account           Community  \n",
      "0         Hyderabad                Novartis Pharma AG  Data Vizualization  \n",
      "1              Pune                Manulife Financial  Data Vizualization  \n",
      "2        Coimbatore                        3M Company  Data Vizualization  \n",
      "3              Pune  Liberty Mutual Insurance Company  Data Vizualization  \n",
      "4              Pune                 BDO Unibank, Inc.  Data Vizualization  \n",
      "...             ...                               ...                 ...  \n",
      "1045544         NaN                               NaN                 NaN  \n",
      "1045545         NaN                               NaN                 NaN  \n",
      "1045546         NaN                               NaN                 NaN  \n",
      "1045547         NaN                               NaN                 NaN  \n",
      "1045548         NaN                               NaN                 NaN  \n",
      "\n",
      "[1045549 rows x 8 columns]\n"
     ]
    }
   ],
   "source": [
    "print(df)"
   ]
  },
  {
   "cell_type": "code",
   "execution_count": null,
   "metadata": {},
   "outputs": [],
   "source": []
  }
 ],
 "metadata": {
  "kernelspec": {
   "display_name": "Python 3",
   "language": "python",
   "name": "python3"
  },
  "language_info": {
   "codemirror_mode": {
    "name": "ipython",
    "version": 3
   },
   "file_extension": ".py",
   "mimetype": "text/x-python",
   "name": "python",
   "nbconvert_exporter": "python",
   "pygments_lexer": "ipython3",
   "version": "3.9.7"
  }
 },
 "nbformat": 4,
 "nbformat_minor": 2
}
